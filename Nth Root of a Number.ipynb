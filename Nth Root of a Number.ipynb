{
 "cells": [
  {
   "cell_type": "code",
   "execution_count": 22,
   "metadata": {},
   "outputs": [
    {
     "name": "stdout",
     "output_type": "stream",
     "text": [
      "Nth Root: 5.911244\n"
     ]
    }
   ],
   "source": [
    "# To find the nth root of a number using Newton's method\n",
    "\n",
    "def nth_root(num, n, err):\n",
    "    \n",
    "    x_k1 = num / 2\n",
    "    x_k2 = 1/n * ((n-1)*x_k1 - num / x_k1**(n - 1))\n",
    "    \n",
    "    while abs(x_k2 - x_k1) > err:\n",
    "            \n",
    "        x_k1 = x_k2\n",
    "        x_k2 = 1/n * ((n-1)*x_k1 + num / (x_k1**(n - 1)))\n",
    "    \n",
    "    return x_k2\n",
    "\n",
    "\n",
    "print('Nth Root: %f' % nth_root(1221, 4, 0.005))"
   ]
  }
 ],
 "metadata": {
  "kernelspec": {
   "display_name": "Python 3",
   "language": "python",
   "name": "python3"
  },
  "language_info": {
   "codemirror_mode": {
    "name": "ipython",
    "version": 3
   },
   "file_extension": ".py",
   "mimetype": "text/x-python",
   "name": "python",
   "nbconvert_exporter": "python",
   "pygments_lexer": "ipython3",
   "version": "3.6.1"
  }
 },
 "nbformat": 4,
 "nbformat_minor": 2
}
